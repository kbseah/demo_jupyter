{
 "cells": [
  {
   "cell_type": "markdown",
   "id": "12a71230",
   "metadata": {},
   "source": [
    "# Demo notebook\n",
    "\n",
    "This is a markdown cell. You can type explanations of your code here and format them with Markdown.\n",
    "\n",
    "You can even write math:\n",
    "\n",
    "$\\int x dx = y$\n"
   ]
  },
  {
   "cell_type": "code",
   "execution_count": 1,
   "id": "288181d0",
   "metadata": {},
   "outputs": [
    {
     "data": {
      "text/plain": [
       "7"
      ]
     },
     "execution_count": 1,
     "metadata": {},
     "output_type": "execute_result"
    }
   ],
   "source": [
    "# This is a code cell\n",
    "# Default language is python\n",
    "\n",
    "5 + 2"
   ]
  },
  {
   "cell_type": "code",
   "execution_count": 4,
   "id": "d6e7fdf0",
   "metadata": {},
   "outputs": [
    {
     "name": "stdout",
     "output_type": "stream",
     "text": [
      "0\n",
      "3\n",
      "6\n",
      "9\n"
     ]
    }
   ],
   "source": [
    "for i in range(0, 10):\n",
    "    if i % 3 == 0:\n",
    "        print (i)"
   ]
  },
  {
   "cell_type": "markdown",
   "id": "b57b9de1",
   "metadata": {},
   "source": [
    "You can also run simple shell commands like `ls` and `pwd` without importing any libraries or invoking the shell"
   ]
  },
  {
   "cell_type": "code",
   "execution_count": 5,
   "id": "13f832d3",
   "metadata": {},
   "outputs": [
    {
     "name": "stdout",
     "output_type": "stream",
     "text": [
      "demo_notebook.ipynb\r\n"
     ]
    }
   ],
   "source": [
    "ls"
   ]
  },
  {
   "cell_type": "markdown",
   "id": "7c0f5af9",
   "metadata": {},
   "source": [
    "To run more complex Bash commands, use \"cell magic\"\n",
    "\n",
    "In the first line of the cell, type `%%bash` (two % signs, no spaces), then everything following can be in Bash like a normal shell script.\n",
    "\n",
    "STDOUT of the Bash command will be saved as cell output."
   ]
  },
  {
   "cell_type": "code",
   "execution_count": 8,
   "id": "77104bf1",
   "metadata": {},
   "outputs": [
    {
     "name": "stdout",
     "output_type": "stream",
     "text": [
      ".\n",
      "..\n",
      ".git\n",
      ".ipynb_checkpoints\n",
      "demo_notebook.ipynb\n"
     ]
    }
   ],
   "source": [
    "%%bash\n",
    "\n",
    "ls -a"
   ]
  },
  {
   "cell_type": "markdown",
   "id": "9e638858",
   "metadata": {},
   "source": [
    "STDERR of the Bash command will be shown with a red background in the notebook."
   ]
  },
  {
   "cell_type": "code",
   "execution_count": 25,
   "id": "1b4d81a3",
   "metadata": {},
   "outputs": [
    {
     "name": "stderr",
     "output_type": "stream",
     "text": [
      "This is for the STDERR"
     ]
    }
   ],
   "source": [
    "%%bash\n",
    "\n",
    "perl -e 'print STDERR \"This is for the STDERR\";'"
   ]
  },
  {
   "cell_type": "code",
   "execution_count": 14,
   "id": "50d899ac",
   "metadata": {},
   "outputs": [
    {
     "name": "stdout",
     "output_type": "stream",
     "text": [
      "1\n",
      "2\n",
      "3\n",
      "4\n",
      "5\n"
     ]
    }
   ],
   "source": [
    "%%bash\n",
    "\n",
    "for i in {1..5}; do\n",
    "    echo $i\n",
    "    done"
   ]
  },
  {
   "cell_type": "markdown",
   "id": "21fdff13",
   "metadata": {},
   "source": [
    "If you want to use a Conda environment for that Bash command (that is not the environment you have currently running the notebook), you must activate it first."
   ]
  },
  {
   "cell_type": "code",
   "execution_count": 21,
   "id": "deb00b28",
   "metadata": {},
   "outputs": [
    {
     "name": "stdout",
     "output_type": "stream",
     "text": [
      "ipython                   7.28.0           py39h71a6800_0    conda-forge\n",
      "ipython_genutils          0.2.0                      py_1    conda-forge\n"
     ]
    }
   ],
   "source": [
    "%%bash\n",
    "\n",
    "source activate base # just an example, because I don't have another environment defined\n",
    "conda list | grep ipython"
   ]
  },
  {
   "cell_type": "markdown",
   "id": "7b7bd808",
   "metadata": {},
   "source": [
    "However this is not persistent between cells, so you will have to repeat the `source activate ...` command for each separate cell."
   ]
  }
 ],
 "metadata": {
  "kernelspec": {
   "display_name": "Python 3 (ipykernel)",
   "language": "python",
   "name": "python3"
  },
  "language_info": {
   "codemirror_mode": {
    "name": "ipython",
    "version": 3
   },
   "file_extension": ".py",
   "mimetype": "text/x-python",
   "name": "python",
   "nbconvert_exporter": "python",
   "pygments_lexer": "ipython3",
   "version": "3.9.7"
  }
 },
 "nbformat": 4,
 "nbformat_minor": 5
}
